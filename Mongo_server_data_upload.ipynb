{
 "cells": [
  {
   "cell_type": "code",
   "execution_count": 7,
   "id": "ef4b1ebc",
   "metadata": {},
   "outputs": [],
   "source": [
    "import pandas as pd\n",
    "import json\n",
    "import pymongo\n",
    "\n"
   ]
  },
  {
   "cell_type": "code",
   "execution_count": 8,
   "id": "68bcc8a9",
   "metadata": {},
   "outputs": [],
   "source": [
    "data=pd.read_csv(\"Your_data_here\")\n"
   ]
  },
  {
   "cell_type": "code",
   "execution_count": 9,
   "id": "708be605",
   "metadata": {},
   "outputs": [],
   "source": [
    "\n",
    "records = json.loads(data.T.to_json()).values()"
   ]
  },
  {
   "cell_type": "code",
   "execution_count": 10,
   "id": "fb386103",
   "metadata": {},
   "outputs": [],
   "source": [
    "my_client = pymongo.MongoClient(\"mongodb://Your_server_Ip_Here:27017\")"
   ]
  },
  {
   "cell_type": "code",
   "execution_count": 11,
   "id": "0b63cfa9",
   "metadata": {},
   "outputs": [],
   "source": [
    "bus_client= my_client[\"my_database\"]"
   ]
  },
  {
   "cell_type": "code",
   "execution_count": 12,
   "id": "890639ab",
   "metadata": {},
   "outputs": [],
   "source": [
    "bus_collection =bus_client[\"bus_list\"]"
   ]
  },
  {
   "cell_type": "code",
   "execution_count": 13,
   "id": "e5ffe313",
   "metadata": {},
   "outputs": [],
   "source": [
    "x =bus_collection.insert_many(records)"
   ]
  },
  {
   "cell_type": "code",
   "execution_count": 14,
   "id": "516d6c3f",
   "metadata": {},
   "outputs": [
    {
     "name": "stdout",
     "output_type": "stream",
     "text": [
      "{'_id': ObjectId('63a8439686c863d400e77171'), 'timestamp': '2017-06-04 07:59:42', 'municipality_id': 9, 'usage': 454, 'total_capacity': 1332}\n"
     ]
    }
   ],
   "source": [
    "y = bus_collection.find_one()\n",
    "print(y)"
   ]
  },
  {
   "cell_type": "code",
   "execution_count": null,
   "id": "f54f9848",
   "metadata": {},
   "outputs": [],
   "source": []
  },
  {
   "cell_type": "code",
   "execution_count": null,
   "id": "a37af80c",
   "metadata": {},
   "outputs": [],
   "source": []
  },
  {
   "cell_type": "code",
   "execution_count": null,
   "id": "95e4e4f3",
   "metadata": {},
   "outputs": [],
   "source": []
  },
  {
   "cell_type": "code",
   "execution_count": null,
   "id": "d78728d0",
   "metadata": {},
   "outputs": [],
   "source": [
    "\n"
   ]
  },
  {
   "cell_type": "code",
   "execution_count": null,
   "id": "fa58f939",
   "metadata": {},
   "outputs": [],
   "source": []
  }
 ],
 "metadata": {
  "kernelspec": {
   "display_name": "Python 3 (ipykernel)",
   "language": "python",
   "name": "python3"
  },
  "language_info": {
   "codemirror_mode": {
    "name": "ipython",
    "version": 3
   },
   "file_extension": ".py",
   "mimetype": "text/x-python",
   "name": "python",
   "nbconvert_exporter": "python",
   "pygments_lexer": "ipython3",
   "version": "3.9.12"
  }
 },
 "nbformat": 4,
 "nbformat_minor": 5
}
